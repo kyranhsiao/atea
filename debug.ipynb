{
 "cells": [
  {
   "cell_type": "code",
   "execution_count": 14,
   "metadata": {},
   "outputs": [
    {
     "name": "stdout",
     "output_type": "stream",
     "text": [
      "Spectrograms for 1 saved.\n",
      "Spectrograms for 2 saved.\n",
      "Spectrograms for 3 saved.\n"
     ]
    }
   ],
   "source": [
    "import os\n",
    "import librosa\n",
    "import matplotlib.pyplot as plt\n",
    "import librosa.display\n",
    "import numpy as np\n",
    "\n",
    "# 定义基础目录\n",
    "base_dir = '/data1/xiaoqiyang/atea-demo/assets/32_31_11_13/musdb18hq'\n",
    "sr = 16000\n",
    "n_fft = 512\n",
    "hop_length = 256\n",
    "# 获取所有数据集目录\n",
    "dataset_dirs = os.listdir(base_dir)\n",
    "\n",
    "# 遍历数据集目录\n",
    "for d in dataset_dirs:\n",
    "    root_dir = os.path.join(base_dir, d)\n",
    "    msg_dirs = os.listdir(root_dir)\n",
    "    \n",
    "    # 遍历每个消息目录\n",
    "    for msg_dir in msg_dirs:\n",
    "        # 音频文件路径\n",
    "        deg_path = os.path.join(root_dir, msg_dir, 'deg.wav')\n",
    "        fake_path = os.path.join(root_dir, msg_dir, 'fake.wav')\n",
    "        inv_path = os.path.join(root_dir, msg_dir, 'inv.wav')\n",
    "        real_path = os.path.join(root_dir, msg_dir, 'real.wav')\n",
    "        sub_path = os.path.join(root_dir, msg_dir, 'sub.wav')\n",
    "        \n",
    "        # 对应的频谱图路径\n",
    "        deg_spec_path = os.path.join(root_dir, msg_dir, 'deg.png')\n",
    "        fake_spec_path = os.path.join(root_dir, msg_dir, 'fake.png')\n",
    "        inv_spec_path = os.path.join(root_dir, msg_dir, 'inv.png')\n",
    "        real_spec_path = os.path.join(root_dir, msg_dir, 'real.png')\n",
    "        sub_spec_path = os.path.join(root_dir, msg_dir, 'sub.png')\n",
    "        \n",
    "        # 计算并保存音频的频谱图\n",
    "        for audio_path, spec_path in [(deg_path, deg_spec_path), (fake_path, fake_spec_path), \n",
    "                                      (inv_path, inv_spec_path), (real_path, real_spec_path), \n",
    "                                      (sub_path, sub_spec_path)]:\n",
    "            sig, _ = librosa.load(audio_path, sr=sr)\n",
    "            spec = np.abs(librosa.stft(sig, n_fft=n_fft, hop_length=hop_length))\n",
    "            db = librosa.amplitude_to_db(spec, ref=np.max)\n",
    "            \n",
    "            fig = plt.figure(figsize=(10, 6))\n",
    "            img = librosa.display.specshow(db,\n",
    "                                           sr=sr, n_fft=n_fft, hop_length=hop_length,\n",
    "                                           x_axis='time', y_axis='linear', cmap='inferno')\n",
    "            fig.colorbar(img, format='%+2.0f dB')\n",
    "            plt.tight_layout()\n",
    "            plt.savefig(spec_path)\n",
    "            plt.close()\n",
    "\n",
    "        print(f\"Spectrograms for {msg_dir} saved.\")\n"
   ]
  }
 ],
 "metadata": {
  "kernelspec": {
   "display_name": "audio_sr",
   "language": "python",
   "name": "python3"
  },
  "language_info": {
   "codemirror_mode": {
    "name": "ipython",
    "version": 3
   },
   "file_extension": ".py",
   "mimetype": "text/x-python",
   "name": "python",
   "nbconvert_exporter": "python",
   "pygments_lexer": "ipython3",
   "version": "3.12.7"
  }
 },
 "nbformat": 4,
 "nbformat_minor": 2
}
